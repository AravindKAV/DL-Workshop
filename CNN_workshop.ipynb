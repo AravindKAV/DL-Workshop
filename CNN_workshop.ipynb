{
  "cells": [
    {
      "cell_type": "markdown",
      "metadata": {
        "id": "view-in-github",
        "colab_type": "text"
      },
      "source": [
        "<a href=\"https://colab.research.google.com/github/AravindKAV/DL-Workshop/blob/main/CNN_workshop.ipynb\" target=\"_parent\"><img src=\"https://colab.research.google.com/assets/colab-badge.svg\" alt=\"Open In Colab\"/></a>"
      ]
    },
    {
      "cell_type": "code",
      "execution_count": null,
      "metadata": {
        "colab": {
          "base_uri": "https://localhost:8080/"
        },
        "id": "kQjgssSqxcrZ",
        "outputId": "2cca9190-9d54-45f0-e0e7-e7abc33aa15c"
      },
      "outputs": [
        {
          "name": "stdout",
          "output_type": "stream",
          "text": [
            "Downloading data from https://storage.googleapis.com/tensorflow/tf-keras-datasets/mnist.npz\n",
            "11490434/11490434 [==============================] - 0s 0us/step\n"
          ]
        }
      ],
      "source": [
        "import numpy as np\n",
        "import pandas as pd\n",
        "import matplotlib.pyplot as plt\n",
        "import tensorflow as tf\n",
        "from tensorflow import keras\n",
        "\n",
        "mnistDB=keras.datasets.mnist\n",
        "(X_train,y_train),(X_test,y_test)=mnistDB.load_data()"
      ]
    },
    {
      "cell_type": "code",
      "execution_count": null,
      "metadata": {
        "id": "2e2xMRCLzSA-"
      },
      "outputs": [],
      "source": [
        "X_train=X_train.reshape((60000,28,28,1))\n",
        "X_test=X_test.reshape((10000,28,28,1))"
      ]
    },
    {
      "cell_type": "code",
      "execution_count": null,
      "metadata": {
        "id": "PUN6z_aH4N2z"
      },
      "outputs": [],
      "source": []
    },
    {
      "cell_type": "code",
      "execution_count": null,
      "metadata": {
        "id": "Ym2fbvwi1KeN"
      },
      "outputs": [],
      "source": [
        "X_train=X_train.astype('float32')/255\n",
        "X_test=X_test.astype('float32')/255"
      ]
    },
    {
      "cell_type": "code",
      "execution_count": null,
      "metadata": {
        "colab": {
          "background_save": true,
          "base_uri": "https://localhost:8080/"
        },
        "id": "4E3J_gLM1h8N",
        "outputId": "35c05b8a-7fbc-4b8a-b876-61901ef3e0c9"
      },
      "outputs": [
        {
          "name": "stdout",
          "output_type": "stream",
          "text": [
            "Model: \"sequential_16\"\n",
            "_________________________________________________________________\n",
            " Layer (type)                Output Shape              Param #   \n",
            "=================================================================\n",
            " conv2d_29 (Conv2D)          (None, 26, 26, 32)        320       \n",
            "                                                                 \n",
            " conv2d_30 (Conv2D)          (None, 24, 24, 64)        18496     \n",
            "                                                                 \n",
            " max_pooling2d_13 (MaxPoolin  (None, 12, 12, 64)       0         \n",
            " g2D)                                                            \n",
            "                                                                 \n",
            " dropout_24 (Dropout)        (None, 12, 12, 64)        0         \n",
            "                                                                 \n",
            " flatten_13 (Flatten)        (None, 9216)              0         \n",
            "                                                                 \n",
            " dense_24 (Dense)            (None, 128)               1179776   \n",
            "                                                                 \n",
            " dropout_25 (Dropout)        (None, 128)               0         \n",
            "                                                                 \n",
            " dense_25 (Dense)            (None, 10)                1290      \n",
            "                                                                 \n",
            "=================================================================\n",
            "Total params: 1,199,882\n",
            "Trainable params: 1,199,882\n",
            "Non-trainable params: 0\n",
            "_________________________________________________________________\n",
            "Epoch 1/2\n",
            "3750/3750 [==============================] - 186s 49ms/step - loss: 0.2869 - accuracy: 0.9385\n",
            "Epoch 2/2\n",
            "3750/3750 [==============================] - 185s 49ms/step - loss: 0.0995 - accuracy: 0.9703\n"
          ]
        },
        {
          "data": {
            "text/plain": [
              "<keras.callbacks.History at 0x7f5eb3a15810>"
            ]
          },
          "execution_count": 25,
          "metadata": {},
          "output_type": "execute_result"
        }
      ],
      "source": [
        "from re import X\n",
        "cnnModel_MNIST=keras.models.Sequential()\n",
        "cnnModel_MNIST.add(keras.layers.Conv2D(32,(3,3),activation=\"relu\",input_shape=X_train.shape[1:]))\n",
        "cnnModel_MNIST.add(keras.layers.Conv2D(64,(3,3),activation=\"relu\"))\n",
        "cnnModel_MNIST.add(keras.layers.MaxPooling2D((2,2)))\n",
        "cnnModel_MNIST.add(keras.layers.Dropout(0.25))\n",
        "cnnModel_MNIST.add(keras.layers.Flatten())\n",
        "cnnModel_MNIST.add(keras.layers.Dense(128,activation=\"relu\"))\n",
        "cnnModel_MNIST.add(keras.layers.Dropout(0.25))\n",
        "cnnModel_MNIST.add(keras.layers.Dense(10,activation=\"softmax\"))\n",
        "cnnModel_MNIST.summary()\n",
        "cnnModel_MNIST.compile(loss='sparse_categorical_crossentropy',optimizer='adam',metrics=['accuracy'])\n",
        "cnnModel_MNIST.fit(X_train,y_train,epochs=2,batch_size=16)\n"
      ]
    }
  ],
  "metadata": {
    "colab": {
      "provenance": [],
      "authorship_tag": "ABX9TyMNZmrvU1Xm362CZaWiQ/PL",
      "include_colab_link": true
    },
    "kernelspec": {
      "display_name": "Python 3",
      "name": "python3"
    },
    "language_info": {
      "name": "python"
    }
  },
  "nbformat": 4,
  "nbformat_minor": 0
}