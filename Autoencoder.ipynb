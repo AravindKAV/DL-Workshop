{
  "cells": [
    {
      "cell_type": "markdown",
      "metadata": {
        "id": "view-in-github",
        "colab_type": "text"
      },
      "source": [
        "<a href=\"https://colab.research.google.com/github/AravindKAV/DL-Workshop/blob/main/Autoencoder.ipynb\" target=\"_parent\"><img src=\"https://colab.research.google.com/assets/colab-badge.svg\" alt=\"Open In Colab\"/></a>"
      ]
    },
    {
      "cell_type": "code",
      "execution_count": null,
      "metadata": {
        "colab": {
          "base_uri": "https://localhost:8080/"
        },
        "id": "Ac_zYHf6WBmu",
        "outputId": "364f6827-65e0-454b-c59c-f4c2eb5b900b"
      },
      "outputs": [
        {
          "name": "stdout",
          "output_type": "stream",
          "text": [
            "Shape of X_train (60000, 28, 28)\n",
            "Shape of X_test (10000, 28, 28)\n"
          ]
        }
      ],
      "source": [
        "import tensorflow as tf\n",
        "from tensorflow import keras\n",
        "from keras.datasets import mnist\n",
        "from keras.layers import Input,Dense\n",
        "from keras.models import Model\n",
        "import matplotlib.pyplot as plt\n",
        "\n",
        "\n",
        "mnistDB=keras.datasets.mnist\n",
        "\n",
        "(X_train, _),(X_test, _)=mnistDB.load_data()\n",
        "print(\"Shape of X_train\",X_train.shape)\n",
        "print(\"Shape of X_test\",X_test.shape)"
      ]
    },
    {
      "cell_type": "code",
      "execution_count": null,
      "metadata": {
        "colab": {
          "base_uri": "https://localhost:8080/"
        },
        "id": "lHOn4kgoZAOU",
        "outputId": "e010dcf3-2f3b-4914-eb41-86ea30b4b388"
      },
      "outputs": [
        {
          "name": "stdout",
          "output_type": "stream",
          "text": [
            "Shape of X_train (60000, 784)\n",
            "Shape of X_test (10000, 784)\n"
          ]
        }
      ],
      "source": [
        "X_train=X_train.reshape((60000,784))\n",
        "X_test=X_test.reshape((10000,784))\n",
        "X_train=X_train.astype('float32')/255\n",
        "X_test=X_test.astype('float32')/255\n",
        "print(\"Shape of X_train\",X_train.shape)\n",
        "print(\"Shape of X_test\",X_test.shape)\n",
        "\n",
        "\n",
        "\n"
      ]
    },
    {
      "cell_type": "code",
      "execution_count": null,
      "metadata": {
        "id": "u9LBVj19Zw1H"
      },
      "outputs": [],
      "source": [
        "input_img= Input(shape=(784,)) #define input shape"
      ]
    },
    {
      "cell_type": "code",
      "execution_count": null,
      "metadata": {
        "id": "v8akyQ7ZbMn1"
      },
      "outputs": [],
      "source": [
        "#create encoder layers\n",
        "\n",
        "encoded=Dense(units=500,activation='relu')(input_img)\n",
        "encoded=Dense(units=200,activation='relu')(encoded)\n",
        "\n",
        "#create decoder layers\n",
        "decoded=Dense(units=100,activation='relu')(encoded)\n",
        "decoded=Dense(units=200,activation='relu')(decoded)\n",
        "decoded=Dense(units=500,activation='relu')(decoded)\n",
        "decoded=Dense(units=784,activation='sigmoid')(decoded)"
      ]
    },
    {
      "cell_type": "code",
      "execution_count": null,
      "metadata": {
        "colab": {
          "base_uri": "https://localhost:8080/"
        },
        "id": "Fyb1t-Kyct9R",
        "outputId": "ae678894-682a-42e3-b44a-b031ad8e8044"
      },
      "outputs": [
        {
          "name": "stdout",
          "output_type": "stream",
          "text": [
            "Model: \"model_1\"\n",
            "_________________________________________________________________\n",
            " Layer (type)                Output Shape              Param #   \n",
            "=================================================================\n",
            " input_2 (InputLayer)        [(None, 784)]             0         \n",
            "                                                                 \n",
            " dense_11 (Dense)            (None, 500)               392500    \n",
            "                                                                 \n",
            " dense_12 (Dense)            (None, 200)               100200    \n",
            "                                                                 \n",
            " dense_13 (Dense)            (None, 100)               20100     \n",
            "                                                                 \n",
            " dense_14 (Dense)            (None, 200)               20200     \n",
            "                                                                 \n",
            " dense_15 (Dense)            (None, 500)               100500    \n",
            "                                                                 \n",
            " dense_16 (Dense)            (None, 784)               392784    \n",
            "                                                                 \n",
            "=================================================================\n",
            "Total params: 1,026,284\n",
            "Trainable params: 1,026,284\n",
            "Non-trainable params: 0\n",
            "_________________________________________________________________\n"
          ]
        }
      ],
      "source": [
        "#Build model\n",
        "\n",
        "autoencoder=Model(input_img,decoded)\n",
        "autoencoder.summary()\n"
      ]
    },
    {
      "cell_type": "code",
      "execution_count": null,
      "metadata": {
        "id": "vjiSJ_EwdcUD"
      },
      "outputs": [],
      "source": [
        "#compile\n",
        "\n",
        "autoencoder.compile(optimizer='adam',loss='binary_crossentropy',metrics=['accuracy'])"
      ]
    },
    {
      "cell_type": "code",
      "execution_count": null,
      "metadata": {
        "colab": {
          "background_save": true,
          "base_uri": "https://localhost:8080/"
        },
        "id": "iz3UxE2fdz8s",
        "outputId": "f5d850b0-bf61-46e3-eeaf-54286ea3d21a"
      },
      "outputs": [
        {
          "name": "stdout",
          "output_type": "stream",
          "text": [
            "Epoch 1/20\n",
            "3750/3750 [==============================] - 54s 14ms/step - loss: 0.1139 - accuracy: 0.0122 - val_loss: 0.0921 - val_accuracy: 0.0141\n",
            "Epoch 2/20\n",
            "3750/3750 [==============================] - 43s 12ms/step - loss: 0.0891 - accuracy: 0.0142 - val_loss: 0.0857 - val_accuracy: 0.0158\n",
            "Epoch 3/20\n",
            "3750/3750 [==============================] - 44s 12ms/step - loss: 0.0848 - accuracy: 0.0155 - val_loss: 0.0833 - val_accuracy: 0.0141\n",
            "Epoch 4/20\n",
            "3750/3750 [==============================] - 46s 12ms/step - loss: 0.0825 - accuracy: 0.0163 - val_loss: 0.0822 - val_accuracy: 0.0150\n",
            "Epoch 5/20\n",
            "3750/3750 [==============================] - 44s 12ms/step - loss: 0.0809 - accuracy: 0.0155 - val_loss: 0.0803 - val_accuracy: 0.0130\n",
            "Epoch 6/20\n",
            "3750/3750 [==============================] - 44s 12ms/step - loss: 0.0797 - accuracy: 0.0159 - val_loss: 0.0800 - val_accuracy: 0.0140\n",
            "Epoch 7/20\n",
            "3750/3750 [==============================] - 44s 12ms/step - loss: 0.0787 - accuracy: 0.0157 - val_loss: 0.0784 - val_accuracy: 0.0190\n",
            "Epoch 8/20\n",
            "3750/3750 [==============================] - 42s 11ms/step - loss: 0.0779 - accuracy: 0.0164 - val_loss: 0.0784 - val_accuracy: 0.0147\n",
            "Epoch 9/20\n",
            "3750/3750 [==============================] - 44s 12ms/step - loss: 0.0773 - accuracy: 0.0173 - val_loss: 0.0774 - val_accuracy: 0.0157\n",
            "Epoch 10/20\n",
            "3750/3750 [==============================] - 44s 12ms/step - loss: 0.0768 - accuracy: 0.0171 - val_loss: 0.0771 - val_accuracy: 0.0130\n",
            "Epoch 11/20\n",
            "3750/3750 [==============================] - 43s 11ms/step - loss: 0.0763 - accuracy: 0.0161 - val_loss: 0.0764 - val_accuracy: 0.0129\n",
            "Epoch 12/20\n",
            "3750/3750 [==============================] - 44s 12ms/step - loss: 0.0758 - accuracy: 0.0160 - val_loss: 0.0751 - val_accuracy: 0.0173\n",
            "Epoch 13/20\n",
            "3750/3750 [==============================] - 44s 12ms/step - loss: 0.0753 - accuracy: 0.0166 - val_loss: 0.0749 - val_accuracy: 0.0096\n",
            "Epoch 14/20\n",
            "3750/3750 [==============================] - 42s 11ms/step - loss: 0.0750 - accuracy: 0.0161 - val_loss: 0.0746 - val_accuracy: 0.0159\n",
            "Epoch 15/20\n",
            "3750/3750 [==============================] - 42s 11ms/step - loss: 0.0746 - accuracy: 0.0166 - val_loss: 0.0747 - val_accuracy: 0.0169\n",
            "Epoch 16/20\n",
            "3750/3750 [==============================] - 42s 11ms/step - loss: 0.0743 - accuracy: 0.0169 - val_loss: 0.0739 - val_accuracy: 0.0165\n",
            "Epoch 17/20\n",
            "3750/3750 [==============================] - 41s 11ms/step - loss: 0.0740 - accuracy: 0.0162 - val_loss: 0.0748 - val_accuracy: 0.0129\n",
            "Epoch 18/20\n",
            "3750/3750 [==============================] - 41s 11ms/step - loss: 0.0738 - accuracy: 0.0169 - val_loss: 0.0741 - val_accuracy: 0.0192\n",
            "Epoch 19/20\n",
            "3750/3750 [==============================] - 42s 11ms/step - loss: 0.0735 - accuracy: 0.0167 - val_loss: 0.0742 - val_accuracy: 0.0129\n",
            "Epoch 20/20\n",
            "3750/3750 [==============================] - 40s 11ms/step - loss: 0.0733 - accuracy: 0.0170 - val_loss: 0.0730 - val_accuracy: 0.0123\n"
          ]
        },
        {
          "data": {
            "text/plain": [
              "<keras.callbacks.History at 0x7f48585a7d90>"
            ]
          },
          "execution_count": 22,
          "metadata": {},
          "output_type": "execute_result"
        }
      ],
      "source": [
        "#fit and train\n",
        "autoencoder.fit(X_train,X_train,epochs=20,batch_size=16,shuffle=True,validation_data=(X_test,X_test))"
      ]
    },
    {
      "cell_type": "code",
      "execution_count": null,
      "metadata": {
        "id": "VV_q2GFBfQEC"
      },
      "outputs": [],
      "source": [
        "#Generate new image\n",
        "\n",
        "reconstructed_images=autoencoder.predict(X_test)"
      ]
    },
    {
      "cell_type": "code",
      "execution_count": null,
      "metadata": {
        "id": "AdzlXXmUfunK"
      },
      "outputs": [],
      "source": [
        "#Display OLD and NEW IMAGE\n",
        "\n",
        "\n",
        "plt.imshow(X_test[1].reshape(28,28))\n",
        "plt.imshow(reconstructed_image[1].reshape(28,28))\n"
      ]
    }
  ],
  "metadata": {
    "colab": {
      "provenance": [],
      "authorship_tag": "ABX9TyPV5W4aMJLk3exfmvKAMy7W",
      "include_colab_link": true
    },
    "kernelspec": {
      "display_name": "Python 3",
      "name": "python3"
    },
    "language_info": {
      "name": "python"
    }
  },
  "nbformat": 4,
  "nbformat_minor": 0
}