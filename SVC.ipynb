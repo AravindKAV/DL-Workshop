{
  "nbformat": 4,
  "nbformat_minor": 0,
  "metadata": {
    "colab": {
      "provenance": [],
      "authorship_tag": "ABX9TyOshIoToVkVif7JM25odBr3",
      "include_colab_link": true
    },
    "kernelspec": {
      "name": "python3",
      "display_name": "Python 3"
    },
    "language_info": {
      "name": "python"
    }
  },
  "cells": [
    {
      "cell_type": "markdown",
      "metadata": {
        "id": "view-in-github",
        "colab_type": "text"
      },
      "source": [
        "<a href=\"https://colab.research.google.com/github/AravindKAV/DL-Workshop/blob/main/SVC.ipynb\" target=\"_parent\"><img src=\"https://colab.research.google.com/assets/colab-badge.svg\" alt=\"Open In Colab\"/></a>"
      ]
    },
    {
      "cell_type": "code",
      "execution_count": null,
      "metadata": {
        "colab": {
          "base_uri": "https://localhost:8080/"
        },
        "id": "l-lDuorxVT40",
        "outputId": "e0e3b476-949f-4376-b9ee-4d990c36e84e"
      },
      "outputs": [
        {
          "output_type": "stream",
          "name": "stdout",
          "text": [
            "97.36842105263158\n"
          ]
        }
      ],
      "source": [
        "#1.Training-----\n",
        "\n",
        "\n",
        "#Load The DATASET\n",
        "import pandas as pd\n",
        "a=pd.read_csv(\"/content/irisexcel.csv\")\n",
        "x=a[[\"sepal_length\",\"sepal_width\",\"petal_length\",\"petal_width\"]]\n",
        "y=a[\"species\"]\n",
        "from sklearn.model_selection import train_test_split \n",
        "xtrain,xtest,ytrain,ytest=train_test_split(x,y,train_size=0.75)\n",
        "\n",
        "#Load ML Model(Algorithm)\n",
        "\n",
        "from sklearn.svm import SVC\n",
        "KTU=SVC()\n",
        "\n",
        "#Fit the DATA into MODEL\n",
        "\n",
        "\n",
        "KTU1=KTU.fit(xtrain,ytrain)\n",
        "\n",
        "#2.Testing----\n",
        "\n",
        "a=KTU1.predict(xtest)\n",
        "\n",
        "from sklearn.metrics import accuracy_score\n",
        "b=accuracy_score(ytest,a)\n",
        "\n",
        "print(b*100)\n"
      ]
    },
    {
      "cell_type": "markdown",
      "source": [],
      "metadata": {
        "id": "xtIP3hr6-uGa"
      }
    }
  ]
}